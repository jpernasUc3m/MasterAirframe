{
 "cells": [
  {
   "cell_type": "code",
   "execution_count": 1,
   "metadata": {},
   "outputs": [],
   "source": [
    "from sympy import integrate, erf, exp, sin, log, oo, pi, sinh, symbols, cos\n",
    "import numpy as np"
   ]
  },
  {
   "cell_type": "code",
   "execution_count": 2,
   "metadata": {},
   "outputs": [],
   "source": [
    "E11=127e3\n",
    "E22=9.25e3\n",
    "# Activate for woven example\n",
    "#E22=127e9\n",
    "G12=4.83e3\n",
    "nu21=0.32\n",
    "nu12=nu21*E22/E11\n",
    "# Dilatation coefficients\n",
    "alpha11=7.47E-06\n",
    "alpha22=2.86E-05\n",
    "alpha12=0\n",
    "# ply thickness\n",
    "hi=0.19e-3\n",
    "a=1-nu12*nu21"
   ]
  },
  {
   "cell_type": "code",
   "execution_count": null,
   "metadata": {},
   "outputs": [],
   "source": []
  }
 ],
 "metadata": {
  "kernelspec": {
   "display_name": "Python 3",
   "language": "python",
   "name": "python3"
  },
  "language_info": {
   "codemirror_mode": {
    "name": "ipython",
    "version": 3
   },
   "file_extension": ".py",
   "mimetype": "text/x-python",
   "name": "python",
   "nbconvert_exporter": "python",
   "pygments_lexer": "ipython3",
   "version": "3.7.1"
  }
 },
 "nbformat": 4,
 "nbformat_minor": 2
}
