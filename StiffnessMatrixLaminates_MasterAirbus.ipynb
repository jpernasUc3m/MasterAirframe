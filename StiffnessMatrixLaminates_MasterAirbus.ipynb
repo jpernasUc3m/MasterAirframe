{
 "cells": [
  {
   "cell_type": "markdown",
   "metadata": {},
   "source": [
    "# Composite Materials\n",
    "Code for calculation Stiffness matrix: A, B and D of a laminate\n",
    "\n",
    "Autores: jartero, jpernas\n"
   ]
  },
  {
   "cell_type": "code",
   "execution_count": 1,
   "metadata": {},
   "outputs": [],
   "source": [
    "from sympy import integrate, erf, exp, sin, log, oo, pi, sinh, symbols, cos\n",
    "import numpy as np"
   ]
  },
  {
   "cell_type": "markdown",
   "metadata": {},
   "source": [
    "Propiedades eláticas del laminado"
   ]
  },
  {
   "cell_type": "code",
   "execution_count": 12,
   "metadata": {},
   "outputs": [],
   "source": [
    "E11=127e9\n",
    "E22=9.25e9\n",
    "# Activate for woven example\n",
    "#E22=127e9\n",
    "G12=4.83e9\n",
    "nu21=0.32\n",
    "nu12=nu21*E22/E11\n",
    "# Dilatation coefficients\n",
    "alpha11=7.47E-06\n",
    "alpha22=2.86E-05\n",
    "alpha12=0\n",
    "# ply thickness\n",
    "hi=0.19e-3\n",
    "a=1-nu12*nu21"
   ]
  },
  {
   "cell_type": "markdown",
   "metadata": {},
   "source": [
    "Stiffness matrix of ply as a function of angle"
   ]
  },
  {
   "cell_type": "code",
   "execution_count": 13,
   "metadata": {},
   "outputs": [
    {
     "name": "stdout",
     "output_type": "stream",
     "text": [
      "[[1.27954318e+11 2.98224236e+09 0.00000000e+00]\n",
      " [2.98224236e+09 9.31950738e+09 0.00000000e+00]\n",
      " [0.00000000e+00 0.00000000e+00 4.83000000e+09]]\n",
      "[[4.06395774e+10 3.09795774e+10 2.96587025e+10]\n",
      " [3.09795774e+10 4.06395774e+10 2.96587025e+10]\n",
      " [2.96587025e+10 2.96587025e+10 3.28273351e+10]]\n",
      "[[ 4.06395774e+10  3.09795774e+10 -2.96587025e+10]\n",
      " [ 3.09795774e+10  4.06395774e+10 -2.96587025e+10]\n",
      " [-2.96587025e+10 -2.96587025e+10  3.28273351e+10]]\n"
     ]
    }
   ],
   "source": [
    "Q_0=np.array([[E11/a,nu21*E22/a,0],[nu21*E22/a,E22/a,0],[0,0,G12]])\n",
    "print(Q_0)\n",
    "# 90 angle\n",
    "theta=90.0\n",
    "m=np.cos(theta/180.0*np.pi)\n",
    "n=np.sin(theta/180.0*np.pi)\n",
    "T=np.array([[m**2,n**2,2*m*n],[n**2,m**2,-2*m*n],[-m*n,m*n,(m**2-n**2)]])\n",
    "R=np.array([[1,0,0],[0,1,0],[0,0,0.5]])\n",
    "Q_theta=np.mat(np.linalg.inv((T)))*np.mat(Q_0)*np.mat(np.linalg.inv((R)))*np.mat(T)*np.mat(R)\n",
    "Q_90=Q_theta\n",
    "#print Q_90\n",
    "## 45 angle\n",
    "theta=45.0\n",
    "m=np.cos(theta/180.0*np.pi)\n",
    "n=np.sin(theta/180.0*np.pi)\n",
    "T=np.array([[m**2,n**2,2*m*n],[n**2,m**2,-2*m*n],[-m*n,m*n,(m**2-n**2)]])\n",
    "R=np.array([[1,0,0],[0,1,0],[0,0,0.5]])\n",
    "Q_theta=np.mat(np.linalg.inv((T)))*np.mat(Q_0)*np.mat(np.linalg.inv((R)))*np.mat(T)*np.mat(R)\n",
    "Q_45=Q_theta\n",
    "print(Q_45)\n",
    "## -45 angle\n",
    "theta=-45.0\n",
    "m=np.cos(theta/180.0*np.pi)\n",
    "n=np.sin(theta/180.0*np.pi)\n",
    "T=np.array([[m**2,n**2,2*m*n],[n**2,m**2,-2*m*n],[-m*n,m*n,(m**2-n**2)]])\n",
    "R=np.array([[1,0,0],[0,1,0],[0,0,0.5]])\n",
    "Q_theta=np.mat(np.linalg.inv((T)))*np.mat(Q_0)*np.mat(np.linalg.inv((R)))*np.mat(T)*np.mat(R)\n",
    "Q_n45=Q_theta\n",
    "print(Q_n45)"
   ]
  },
  {
   "cell_type": "markdown",
   "metadata": {},
   "source": [
    "Laminate ply sequence"
   ]
  },
  {
   "cell_type": "code",
   "execution_count": 14,
   "metadata": {},
   "outputs": [],
   "source": [
    "###########################################################\n",
    "sec=np.array([45,-45,0,90,90,0,0,90,90,0,-45,45])\n",
    "#sec=np.array([45,-45,90,0,90,-45,45,90,0,90,45,-45,90,90,-45,45,45,-45,90,90,-45,45,90,0,90,45,-45,90,0,90,-45,45])"
   ]
  },
  {
   "cell_type": "code",
   "execution_count": 15,
   "metadata": {},
   "outputs": [
    {
     "name": "stdout",
     "output_type": "stream",
     "text": [
      "[ 45 -45   0  90  90   0   0  90  90   0 -45  45]\n",
      "[[1.35214186e+08 2.80774872e+07 0.00000000e+00]\n",
      " [2.80774872e+07 1.35214186e+08 5.58793545e-09]\n",
      " [0.00000000e+00 5.58793545e-09 3.22903746e+07]]\n",
      "[[51.58785147 22.40496593  4.06858081]\n",
      " [22.40496593 45.07812217  4.06858081]\n",
      " [ 4.06858081  4.06858081 24.22998875]]\n",
      "53.58555100517861\n",
      "[[6.36646291e-12 9.09494702e-13 0.00000000e+00]\n",
      " [9.09494702e-13 2.72848411e-12 0.00000000e+00]\n",
      " [0.00000000e+00 0.00000000e+00 0.00000000e+00]]\n"
     ]
    }
   ],
   "source": [
    "plies=len(sec)\n",
    "# print(sec[1])\n",
    "print(sec)\n",
    "i = 0\n",
    "A = 0\n",
    "while (i < plies):\n",
    "\tif sec[i] == 0:\n",
    "\t\tA= A + hi*Q_0\n",
    "\telif sec[i] == 90:\n",
    "\t\tA = A +hi*Q_90\n",
    "\telif sec[i] == 45:\n",
    "\t\tA = A +hi*Q_45\n",
    "\telif sec[i] == -45:\n",
    "\t\tA = A +hi*Q_n45\n",
    "\ti+=1\n",
    "print(A)\n",
    "i = 0\n",
    "D = 0\n",
    "while (i < plies):\n",
    "\tif sec[i] == 0:\n",
    "\t\tD= D + 1.0/3.0*Q_0*((plies/2.0-i)**3-(plies/2.0-i-1)**3)*hi**3\n",
    "\telif sec[i] == 90:\n",
    "\t\tD= D + 1.0/3.0*Q_90*((plies/2.0-i)**3-(plies/2.0-i-1)**3)*hi**3\n",
    "\telif sec[i] == 45:\n",
    "\t\tD= D + 1.0/3.0*Q_45*((plies/2.0-i)**3-(plies/2.0-i-1)**3)*hi**3\n",
    "\telif sec[i] == -45:\n",
    "\t\tD= D + 1.0/3.0*Q_n45*((plies/2.0-i)**3-(plies/2.0-i-1)**3)*hi**3\n",
    "\ti+=1\n",
    "print(D)\n",
    "#print(D[0,1])\n",
    "eta=(D[0,1]+2*D[2,2])/((D[0,0]*D[1,1])**0.5)\n",
    "D_estrella=(((eta+1)/2.0)*(D[0,0]*D[1,1]))**0.5\n",
    "print(D_estrella)\n",
    "\n",
    "B = 0\n",
    "i = 0\n",
    "while (i < plies):\n",
    "\tif sec[i] == 0:\n",
    "\t\tB= B + 1.0/2.0*Q_0*((plies/2.0-i)**2-(plies/2.0-i-1)**2)*hi**2\n",
    "\telif sec[i] == 90:\n",
    "\t\tB= B + 1.0/2.0*Q_90*((plies/2.0-i)**2-(plies/2.0-i-1)**2)*hi**2\n",
    "\telif sec[i] == 45:\n",
    "\t\tB= B + 1.0/2.0*Q_45*((plies/2.0-i)**2-(plies/2.0-i-1)**2)*hi**2\n",
    "\telif sec[i] == -45:\n",
    "\t\tB= B + 1.0/2.0*Q_n45*((plies/2.0-i)**2-(plies/2.0-i-1)**2)*hi**2\n",
    "\ti+=1\n",
    "print(B)"
   ]
  },
  {
   "cell_type": "markdown",
   "metadata": {},
   "source": [
    "![](Effect-of-stiffness-matrix-elements-on-deformation-of-the-laminate-element.png)"
   ]
  },
  {
   "cell_type": "code",
   "execution_count": null,
   "metadata": {},
   "outputs": [],
   "source": []
  }
 ],
 "metadata": {
  "kernelspec": {
   "display_name": "Python 3",
   "language": "python",
   "name": "python3"
  },
  "language_info": {
   "codemirror_mode": {
    "name": "ipython",
    "version": 3
   },
   "file_extension": ".py",
   "mimetype": "text/x-python",
   "name": "python",
   "nbconvert_exporter": "python",
   "pygments_lexer": "ipython3",
   "version": "3.7.1"
  }
 },
 "nbformat": 4,
 "nbformat_minor": 2
}
