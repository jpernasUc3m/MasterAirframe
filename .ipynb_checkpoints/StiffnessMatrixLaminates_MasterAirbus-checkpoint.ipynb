{
 "cells": [
  {
   "cell_type": "markdown",
   "metadata": {},
   "source": [
    "# Composite Materials\n",
    "Code for calculation Stiffness matrix: A, B and D of a laminate\n",
    "\n",
    "Autores: jartero, jpernas\n"
   ]
  },
  {
   "cell_type": "code",
   "execution_count": 6,
   "metadata": {},
   "outputs": [],
   "source": [
    "from sympy import integrate, erf, exp, sin, log, oo, pi, sinh, symbols, cos\n",
    "import numpy as np"
   ]
  },
  {
   "cell_type": "markdown",
   "metadata": {},
   "source": [
    "Propiedades eláticas del laminado"
   ]
  },
  {
   "cell_type": "code",
   "execution_count": 34,
   "metadata": {},
   "outputs": [],
   "source": [
    "E11=127e3\n",
    "E22=11e3\n",
    "# Activate for woven example\n",
    "#E22=127e3\n",
    "G12=4.5e3\n",
    "nu21=0.25\n",
    "nu12=nu21*E22/E11\n",
    "# Dilatation coefficients\n",
    "alpha11=7.47E-06\n",
    "alpha22=2.86E-05\n",
    "alpha12=0\n",
    "# ply thickness\n",
    "hi=0.133e-3\n",
    "a=1-nu12*nu21"
   ]
  },
  {
   "cell_type": "markdown",
   "metadata": {},
   "source": [
    "Stiffness matrix of ply as a function of angle"
   ]
  },
  {
   "cell_type": "code",
   "execution_count": 35,
   "metadata": {},
   "outputs": [
    {
     "name": "stdout",
     "output_type": "stream",
     "text": [
      "[[127691.24195943   2764.9678377       0.        ]\n",
      " [  2764.9678377   11059.87135082      0.        ]\n",
      " [     0.              0.           4500.        ]]\n",
      "[[40570.26224641 31570.26224641 29157.84265215]\n",
      " [31570.26224641 40570.26224641 29157.84265215]\n",
      " [29157.84265215 29157.84265215 33305.29440871]]\n",
      "[[ 40570.26224641  31570.26224641 -29157.84265215]\n",
      " [ 31570.26224641  40570.26224641 -29157.84265215]\n",
      " [-29157.84265215 -29157.84265215  33305.29440871]]\n"
     ]
    }
   ],
   "source": [
    "Q_0=np.array([[E11/a,nu21*E22/a,0],[nu21*E22/a,E22/a,0],[0,0,G12]])\n",
    "print(Q_0)\n",
    "# 90 angle\n",
    "theta=90.0\n",
    "m=np.cos(theta/180.0*np.pi)\n",
    "n=np.sin(theta/180.0*np.pi)\n",
    "T=np.array([[m**2,n**2,2*m*n],[n**2,m**2,-2*m*n],[-m*n,m*n,(m**2-n**2)]])\n",
    "R=np.array([[1,0,0],[0,1,0],[0,0,0.5]])\n",
    "Q_theta=np.mat(np.linalg.inv((T)))*np.mat(Q_0)*np.mat(np.linalg.inv((R)))*np.mat(T)*np.mat(R)\n",
    "Q_90=Q_theta\n",
    "#print Q_90\n",
    "## 45 angle\n",
    "theta=45.0\n",
    "m=np.cos(theta/180.0*np.pi)\n",
    "n=np.sin(theta/180.0*np.pi)\n",
    "T=np.array([[m**2,n**2,2*m*n],[n**2,m**2,-2*m*n],[-m*n,m*n,(m**2-n**2)]])\n",
    "R=np.array([[1,0,0],[0,1,0],[0,0,0.5]])\n",
    "Q_theta=np.mat(np.linalg.inv((T)))*np.mat(Q_0)*np.mat(np.linalg.inv((R)))*np.mat(T)*np.mat(R)\n",
    "Q_45=Q_theta\n",
    "print(Q_45)\n",
    "## -45 angle\n",
    "theta=-45.0\n",
    "m=np.cos(theta/180.0*np.pi)\n",
    "n=np.sin(theta/180.0*np.pi)\n",
    "T=np.array([[m**2,n**2,2*m*n],[n**2,m**2,-2*m*n],[-m*n,m*n,(m**2-n**2)]])\n",
    "R=np.array([[1,0,0],[0,1,0],[0,0,0.5]])\n",
    "Q_theta=np.mat(np.linalg.inv((T)))*np.mat(Q_0)*np.mat(np.linalg.inv((R)))*np.mat(T)*np.mat(R)\n",
    "Q_n45=Q_theta\n",
    "print(Q_n45)"
   ]
  },
  {
   "cell_type": "markdown",
   "metadata": {},
   "source": [
    "Laminate ply sequence"
   ]
  },
  {
   "cell_type": "code",
   "execution_count": 38,
   "metadata": {},
   "outputs": [],
   "source": [
    "###########################################################\n",
    "sec=np.array([0,45,90,90,0])\n",
    "#sec=np.array([45,-45,0,90,90,0,0,90,90,0,-45,45])\n",
    "#sec=np.array([45,-45,90,0,90,-45,45,90,0,90,45,-45,90,90,-45,45,45,-45,90,90,-45,45,90,0,90,45,-45,90,0,90,-45,45])"
   ]
  },
  {
   "cell_type": "code",
   "execution_count": 39,
   "metadata": {},
   "outputs": [
    {
     "name": "stdout",
     "output_type": "stream",
     "text": [
      "[ 0 45 90 90  0]\n",
      "[[42.30364102  5.66980777  3.87799307]\n",
      " [ 5.66980777 42.30364102  3.87799307]\n",
      " [ 3.87799307  3.87799307  6.82360416]]\n",
      "[[2.58711518e-06 1.41175827e-07 7.43143044e-08]\n",
      " [1.41175827e-07 6.66376233e-07 7.43143044e-08]\n",
      " [7.43143044e-08 7.43143044e-08 1.83695628e-07]]\n",
      "1.0935595806723285e-06\n",
      "[[ 0.00052201  0.00050954  0.00051577]\n",
      " [ 0.00050954 -0.00154108  0.00051577]\n",
      " [ 0.00051577  0.00051577  0.00050954]]\n"
     ]
    }
   ],
   "source": [
    "plies=len(sec)\n",
    "# print(sec[1])\n",
    "print(sec)\n",
    "i = 0\n",
    "A = 0\n",
    "while (i < plies):\n",
    "\tif sec[i] == 0:\n",
    "\t\tA= A + hi*Q_0\n",
    "\telif sec[i] == 90:\n",
    "\t\tA = A +hi*Q_90\n",
    "\telif sec[i] == 45:\n",
    "\t\tA = A +hi*Q_45\n",
    "\telif sec[i] == -45:\n",
    "\t\tA = A +hi*Q_n45\n",
    "\ti+=1\n",
    "print(A)\n",
    "i = 0\n",
    "D = 0\n",
    "while (i < plies):\n",
    "\tif sec[i] == 0:\n",
    "\t\tD= D + 1.0/3.0*Q_0*((plies/2.0-i)**3-(plies/2.0-i-1)**3)*hi**3\n",
    "\telif sec[i] == 90:\n",
    "\t\tD= D + 1.0/3.0*(Q_90*((plies/2.0-i)**3-(plies/2.0-i-1)**3)*hi**3)\n",
    "\telif sec[i] == 45:\n",
    "\t\tD= D + 1.0/3.0*(Q_45*((plies/2.0-i)**3-(plies/2.0-i-1)**3)*hi**3)\n",
    "\telif sec[i] == -45:\n",
    "\t\tD= D + 1.0/3.0*(Q_n45*((plies/2.0-i)**3-(plies/2.0-i-1)**3)*hi**3)\n",
    "\ti+=1\n",
    "print(D)\n",
    "#print(D[0,1])\n",
    "eta=(D[0,1]+2*D[2,2])/((D[0,0]*D[1,1])**0.5)\n",
    "D_estrella=(((eta+1)/2.0)*(D[0,0]*D[1,1]))**0.5\n",
    "print(D_estrella)\n",
    "\n",
    "B = 0\n",
    "i = 0\n",
    "while (i < plies):\n",
    "\tif sec[i] == 0:\n",
    "\t\tB= B + 1.0/2.0*Q_0*((plies/2.0-i)**2-(plies/2.0-i-1)**2)*hi**2\n",
    "\telif sec[i] == 90:\n",
    "\t\tB= B + 1.0/2.0*Q_90*((plies/2.0-i)**2-(plies/2.0-i-1)**2)*hi**2\n",
    "\telif sec[i] == 45:\n",
    "\t\tB= B + 1.0/2.0*Q_45*((plies/2.0-i)**2-(plies/2.0-i-1)**2)*hi**2\n",
    "\telif sec[i] == -45:\n",
    "\t\tB= B + 1.0/2.0*Q_n45*((plies/2.0-i)**2-(plies/2.0-i-1)**2)*hi**2\n",
    "\ti+=1\n",
    "print(B)"
   ]
  },
  {
   "cell_type": "markdown",
   "metadata": {},
   "source": [
    "![](Effect-of-stiffness-matrix-elements-on-deformation-of-the-laminate-element.png)"
   ]
  },
  {
   "cell_type": "code",
   "execution_count": null,
   "metadata": {},
   "outputs": [],
   "source": []
  }
 ],
 "metadata": {
  "kernelspec": {
   "display_name": "Python 3",
   "language": "python",
   "name": "python3"
  },
  "language_info": {
   "codemirror_mode": {
    "name": "ipython",
    "version": 3
   },
   "file_extension": ".py",
   "mimetype": "text/x-python",
   "name": "python",
   "nbconvert_exporter": "python",
   "pygments_lexer": "ipython3",
   "version": "3.7.1"
  }
 },
 "nbformat": 4,
 "nbformat_minor": 2
}
